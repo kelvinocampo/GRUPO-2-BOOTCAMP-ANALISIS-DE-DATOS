{
 "cells": [
  {
   "cell_type": "code",
   "execution_count": null,
   "id": "a96dec0f",
   "metadata": {},
   "outputs": [],
   "source": [
    "import pandas as pd\n",
    "import os\n",
    "import sys\n",
    "\n",
    "def leer_archivo(ruta_archivo: str):\n",
    "    # Verificar que el archivo existe\n",
    "    if not os.path.exists(ruta_archivo):\n",
    "        sys.exit(f\"❌ El archivo no existe: {ruta_archivo}\")\n",
    "\n",
    "    # Detectar la extensión\n",
    "    extension = os.path.splitext(ruta_archivo)[1].lower()\n",
    "\n",
    "    try:\n",
    "        if extension == \".csv\":\n",
    "            df = pd.read_csv(\n",
    "                ruta_archivo,\n",
    "                thousands=\",\",         # ✅ interpreta comas como miles (2022, 20000)\n",
    "                na_values=[\"\", \" \"],   # ✅ vacíos como NaN\n",
    "                keep_default_na=True\n",
    "            )\n",
    "        elif extension in [\".xls\", \".xlsx\"]:\n",
    "            df = pd.read_excel(ruta_archivo)\n",
    "        elif extension == \".json\":\n",
    "            df = pd.read_json(ruta_archivo)\n",
    "        else:\n",
    "            sys.exit(f\"⚠️ Tipo de archivo no soportado: {extension}\")\n",
    "\n",
    "        # Mostrar solo las primeras 10 filas\n",
    "        print(df.head(10))\n",
    "        return df\n",
    "\n",
    "    except Exception as e:\n",
    "        sys.exit(f\"❌ Error al leer el archivo: {e}\")"
   ]
  },
  {
   "cell_type": "code",
   "execution_count": null,
   "id": "7c501369",
   "metadata": {},
   "outputs": [],
   "source": [
    "def combinar_dataframes(df1, df2, cols1=None, cols2=None, how=\"inner\"):\n",
    "    \"\"\"\n",
    "    Combina dos DataFrames en base a columnas comunes o especificadas.\n",
    "    \n",
    "    Parámetros:\n",
    "    -----------\n",
    "    df1 : DataFrame\n",
    "        Primer DataFrame\n",
    "    df2 : DataFrame\n",
    "        Segundo DataFrame\n",
    "    cols1 : str o list, opcional\n",
    "        Columna(s) en df1 para la unión\n",
    "    cols2 : str o list, opcional\n",
    "        Columna(s) en df2 para la unión\n",
    "    how : str, default \"inner\"\n",
    "        Tipo de unión: 'left', 'right', 'outer', 'inner'\n",
    "\n",
    "    Retorna:\n",
    "    --------\n",
    "    DataFrame combinado\n",
    "    \"\"\"\n",
    "    if cols1 is None and cols2 is None:\n",
    "        # Detectar columnas comunes automáticamente\n",
    "        comunes = list(set(df1.columns) & set(df2.columns))\n",
    "        if not comunes:\n",
    "            raise ValueError(\"❌ No hay columnas en común para combinar.\")\n",
    "        return pd.merge(df1, df2, on=comunes, how=how)\n",
    "\n",
    "    elif cols1 is not None and cols2 is not None:\n",
    "        # Unión con columnas diferentes\n",
    "        return pd.merge(df1, df2, left_on=cols1, right_on=cols2, how=how)\n",
    "\n",
    "    else:\n",
    "        raise ValueError(\"❌ Debes pasar ambas listas de columnas (cols1 y cols2) o ninguna.\")\n"
   ]
  },
  {
   "cell_type": "code",
   "execution_count": null,
   "id": "33989e80",
   "metadata": {},
   "outputs": [],
   "source": [
    "import matplotlib.pyplot as plt\n",
    "\n",
    "# Ruta del archivo\n",
    "ruta = \"./data/num_ev.csv\"\n",
    "df = leer_archivo(ruta)"
   ]
  },
  {
   "cell_type": "code",
   "execution_count": null,
   "id": "66798420",
   "metadata": {},
   "outputs": [],
   "source": [
    "# ---------------------------\n",
    "# Limpieza de columnas numéricas\n",
    "# ---------------------------\n",
    "# Asegurar que algunas columnas sean numéricas\n",
    "cols_numericas = [\"AÑO_REGISTRO\", \"CAPACIDAD_PASAJEROS\", \"POTENCIA\"]\n",
    "for col in cols_numericas:\n",
    "    if col in df.columns:\n",
    "        df[col] = pd.to_numeric(df[col], errors=\"coerce\")"
   ]
  },
  {
   "cell_type": "code",
   "execution_count": null,
   "id": "f0b632d1",
   "metadata": {},
   "outputs": [],
   "source": [
    "# ---------------------------\n",
    "# 1. Vehículos registrados por año\n",
    "# ---------------------------\n",
    "conteo_anual = df[\"AÑO_REGISTRO\"].value_counts().sort_index()\n",
    "plt.figure(figsize=(8, 5))\n",
    "conteo_anual.plot(kind=\"bar\")\n",
    "plt.title(\"Número de vehículos eléctricos registrados por año\")\n",
    "plt.xlabel(\"Año de registro\")\n",
    "plt.ylabel(\"Cantidad de vehículos\")\n",
    "plt.tight_layout()\n",
    "plt.show()"
   ]
  },
  {
   "cell_type": "code",
   "execution_count": null,
   "id": "fda34796",
   "metadata": {},
   "outputs": [],
   "source": [
    "# ---------------------------\n",
    "# 2. Distribución por marca (Top 10)\n",
    "# ---------------------------\n",
    "plt.figure(figsize=(8, 5))\n",
    "df[\"MARCA\"].value_counts().head(10).plot(kind=\"bar\")\n",
    "plt.title(\"Top 10 marcas de vehículos eléctricos\")\n",
    "plt.xlabel(\"Marca\")\n",
    "plt.ylabel(\"Cantidad de vehículos\")\n",
    "plt.tight_layout()\n",
    "plt.show()"
   ]
  },
  {
   "cell_type": "code",
   "execution_count": null,
   "id": "7a5711fc",
   "metadata": {},
   "outputs": [],
   "source": [
    "# ---------------------------\n",
    "# 3. Clasificación por clase (Automóvil, Moto, Bus…)\n",
    "# ---------------------------\n",
    "plt.figure(figsize=(6, 6))\n",
    "df[\"CLASE\"].value_counts().plot(kind=\"pie\", autopct='%1.1f%%')\n",
    "plt.title(\"Distribución por clase de vehículo\")\n",
    "plt.ylabel(\"\")  # Quitar etiqueta lateral\n",
    "plt.tight_layout()\n",
    "plt.show()"
   ]
  },
  {
   "cell_type": "code",
   "execution_count": null,
   "id": "d30071e0",
   "metadata": {},
   "outputs": [],
   "source": [
    "# ---------------------------\n",
    "# 4. Potencia promedio por marca (Top 10)\n",
    "# ---------------------------\n",
    "if \"POTENCIA\" in df.columns:\n",
    "    potencia_marca = df.groupby(\"MARCA\")[\"POTENCIA\"].mean().sort_values(ascending=False).head(10)\n",
    "    plt.figure(figsize=(10, 5))\n",
    "    potencia_marca.plot(kind=\"bar\")\n",
    "    plt.title(\"Potencia promedio por marca (Top 10)\")\n",
    "    plt.xlabel(\"Marca\")\n",
    "    plt.ylabel(\"Potencia (HP o kW)\")\n",
    "    plt.tight_layout()\n",
    "    plt.show()"
   ]
  },
  {
   "cell_type": "code",
   "execution_count": null,
   "id": "e335c4a0",
   "metadata": {},
   "outputs": [],
   "source": [
    "# ---------------------------\n",
    "# 5. Capacidad de pasajeros por tipo de servicio\n",
    "# ---------------------------\n",
    "if \"CAPACIDAD_PASAJEROS\" in df.columns and \"SERVICIO\" in df.columns:\n",
    "    plt.figure(figsize=(7, 5))\n",
    "    df.groupby(\"SERVICIO\")[\"CAPACIDAD_PASAJEROS\"].mean().plot(kind=\"bar\")\n",
    "    plt.title(\"Capacidad promedio de pasajeros por servicio\")\n",
    "    plt.xlabel(\"Servicio\")\n",
    "    plt.ylabel(\"Pasajeros promedio\")\n",
    "    plt.tight_layout()\n",
    "    plt.show()"
   ]
  }
 ],
 "metadata": {
  "kernelspec": {
   "display_name": "Python 3",
   "language": "python",
   "name": "python3"
  },
  "language_info": {
   "codemirror_mode": {
    "name": "ipython",
    "version": 3
   },
   "file_extension": ".py",
   "mimetype": "text/x-python",
   "name": "python",
   "nbconvert_exporter": "python",
   "pygments_lexer": "ipython3",
   "version": "3.12.1"
  }
 },
 "nbformat": 4,
 "nbformat_minor": 5
}
